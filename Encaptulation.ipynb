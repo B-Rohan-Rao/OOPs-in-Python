{
 "cells": [
  {
   "cell_type": "markdown",
   "metadata": {},
   "source": [
    "<h1>Encaptulation</h1>"
   ]
  },
  {
   "cell_type": "markdown",
   "metadata": {},
   "source": [
    "In Object-Oriented Programming (OOP), encapsulation refers to the bundling of data (attributes) and the methods that operate on that data within a single unit called a class. It's a fundamental principle that promotes data protection, modularity, and code maintainability."
   ]
  },
  {
   "cell_type": "code",
   "execution_count": 7,
   "metadata": {},
   "outputs": [
    {
     "data": {
      "text/plain": [
       "'Employee@gmail.com'"
      ]
     },
     "execution_count": 7,
     "metadata": {},
     "output_type": "execute_result"
    }
   ],
   "source": [
    "class Manager:\n",
    "    def __init__(self):\n",
    "        self.employee_id = \"Employee@gmail.com\"\n",
    "        self.employee_pass = \"1234 hello\"\n",
    "\n",
    "     # Public variable\n",
    "        # self._manager_id = \"Manager@gmail.com\"\n",
    "        # self._manager_pass = \"84322 world\"\n",
    "\n",
    "     # Protected variable.\n",
    "        # self._manager_id = \"Manager@gmail.com\"\n",
    "        # self._manager_pass = \"84322 world\"\n",
    "\n",
    "     # private variable\n",
    "        self.__manager_id = \"Manager@gmail.com\"\n",
    "        self.__manager_pass = \"84322 world\"\n",
    "        \n",
    "\n",
    "class Employee(Manager):\n",
    "    test = \"hii from employee\"        \n",
    "\n",
    "obj = Employee()\n",
    "obj.employee_id \n",
    "# obj.manager_id      #This is not accesseble as it is not visible to the employee"
   ]
  },
  {
   "cell_type": "markdown",
   "metadata": {},
   "source": [
    "<h2>Name Mangling:-</h2>\n",
    "This is the process in which we can access the private variables of a class "
   ]
  },
  {
   "cell_type": "code",
   "execution_count": 8,
   "metadata": {},
   "outputs": [
    {
     "data": {
      "text/plain": [
       "{'employee_id': 'Employee@gmail.com',\n",
       " 'employee_pass': '1234 hello',\n",
       " '_Manager__manager_id': 'Manager@gmail.com',\n",
       " '_Manager__manager_pass': '84322 world'}"
      ]
     },
     "execution_count": 8,
     "metadata": {},
     "output_type": "execute_result"
    }
   ],
   "source": [
    "obj.__dict__"
   ]
  },
  {
   "cell_type": "code",
   "execution_count": 9,
   "metadata": {},
   "outputs": [
    {
     "data": {
      "text/plain": [
       "'Manager@gmail.com'"
      ]
     },
     "execution_count": 9,
     "metadata": {},
     "output_type": "execute_result"
    }
   ],
   "source": [
    "obj._Manager__manager_id"
   ]
  },
  {
   "cell_type": "markdown",
   "metadata": {},
   "source": [
    "<h2> Private or Encapsulated method</h2>"
   ]
  },
  {
   "cell_type": "code",
   "execution_count": 12,
   "metadata": {},
   "outputs": [
    {
     "name": "stdout",
     "output_type": "stream",
     "text": [
      "Employee@gmail.com\n",
      "1234 hello\n"
     ]
    }
   ],
   "source": [
    "class Manager:\n",
    "    def __init__(self):\n",
    "        self.employee_id = \"Employee@gmail.com\"\n",
    "        self.employee_pass = \"1234 hello\"\n",
    "\n",
    "     \n",
    "        self.__manager_id = \"Manager@gmail.com\"\n",
    "        self.__manager_pass = \"84322 world\"\n",
    "\n",
    "    def display_employee(self):\n",
    "        print(self.employee_id)\n",
    "        print(self.employee_pass)\n",
    "\n",
    "    def __display_manager(self):\n",
    "        print(self.__manager_id)\n",
    "        print(self.__manager_pass)        \n",
    "        \n",
    "\n",
    "class Employee(Manager):\n",
    "    test = \"hii from employee\"        \n",
    "\n",
    "obj = Employee()\n",
    "obj.display_employee()\n",
    "# obj.__display_manager()\n",
    "\n",
    "# However this private methods can also be used by name mandling."
   ]
  }
 ],
 "metadata": {
  "kernelspec": {
   "display_name": "Python 3",
   "language": "python",
   "name": "python3"
  },
  "language_info": {
   "codemirror_mode": {
    "name": "ipython",
    "version": 3
   },
   "file_extension": ".py",
   "mimetype": "text/x-python",
   "name": "python",
   "nbconvert_exporter": "python",
   "pygments_lexer": "ipython3",
   "version": "3.9.13"
  }
 },
 "nbformat": 4,
 "nbformat_minor": 2
}
