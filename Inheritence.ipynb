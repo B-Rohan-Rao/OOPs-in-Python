{
 "cells": [
  {
   "cell_type": "markdown",
   "metadata": {},
   "source": [
    "<h1>Inheritence</h1>"
   ]
  },
  {
   "cell_type": "markdown",
   "metadata": {},
   "source": [
    "In Object-Oriented Programming (OOP), inheritance is a powerful mechanism that allows new classes (derived classes or subclasses) to inherit properties (attributes) and behaviors (methods) from existing classes (base classes or parent classes). It's a fundamental concept that promotes code reusability, code organization, and hierarchical relationships between classes."
   ]
  },
  {
   "cell_type": "code",
   "execution_count": 1,
   "metadata": {},
   "outputs": [
    {
     "name": "stdout",
     "output_type": "stream",
     "text": [
      "From class A\n",
      "From class B\n"
     ]
    }
   ],
   "source": [
    "# Inheritence\n",
    "        # single\n",
    "        # multiple\n",
    "        # multilevel\n",
    "        # hybrid\n",
    "        # heirarical\n",
    "\n",
    "\n",
    "# Witout constructor\n",
    "class A:       #Super class, Parent class, Base class\n",
    "    var1 = 'From class A'\n",
    "class B(A):    #Sub class, Child class, Derived class\n",
    "    var2 = 'From class B'\n",
    "\n",
    "obj_a = A()\n",
    "obj_b = B()\n",
    "\n",
    "print(obj_b.var1)\n",
    "print(obj_b.var2)\n"
   ]
  },
  {
   "cell_type": "code",
   "execution_count": 15,
   "metadata": {},
   "outputs": [
    {
     "name": "stdout",
     "output_type": "stream",
     "text": [
      "Father name is Sanjay Sharma\n",
      "Father age is 67\n",
      "Son name is Mohit Sharma\n",
      "Son age is 27\n"
     ]
    }
   ],
   "source": [
    "# Single level Inheritence (Witout constructor)\n",
    "\n",
    "class Father:\n",
    "    def __init__(self, father_name, father_age):\n",
    "        self.father_name = father_name\n",
    "        self.father_age = father_age\n",
    "\n",
    "    def father_hii(self):\n",
    "        print(\"Father name is\", self.father_name)\n",
    "        print(\"Father age is\", self.father_age) \n",
    "\n",
    "class Son(Father):\n",
    "    son_name = \"Mohit Sharma\"           \n",
    "    son_age = 27\n",
    "\n",
    "    def son_hii(self):\n",
    "        print(\"Son name is\", self.son_name)\n",
    "        print(\"Son age is\", self.son_age) \n",
    "\n",
    "\n",
    "son_obj = Son(\"Sanjay Sharma\",67)\n",
    "son_obj.father_hii()\n",
    "son_obj.son_hii()"
   ]
  },
  {
   "cell_type": "code",
   "execution_count": 3,
   "metadata": {},
   "outputs": [
    {
     "name": "stdout",
     "output_type": "stream",
     "text": [
      "Father name is Sanjay Sharma\n",
      "Father age is 67\n",
      "Son name is Mohit Sharma\n",
      "Son age is 27\n"
     ]
    }
   ],
   "source": [
    "# Single Inheritence\n",
    "\n",
    "class Father:\n",
    "    def __init__(self, father_name, father_age):\n",
    "        self.father_name = father_name\n",
    "        self.father_age = father_age\n",
    "\n",
    "    def father_hii(self):\n",
    "        print(\"Father name is\", self.father_name)\n",
    "        print(\"Father age is\", self.father_age) \n",
    "\n",
    "class Son(Father):\n",
    "    def __init__(self, father_name, father_age, son_name, son_age):\n",
    "        super().__init__(father_name, father_age)\n",
    "        self.son_name = son_name\n",
    "        self.son_age = son_age\n",
    "\n",
    "    def son_hii(self):\n",
    "        print(\"Son name is\", self.son_name)\n",
    "        print(\"Son age is\", self.son_age) \n",
    "\n",
    "\n",
    "son_obj = Son(\"Sanjay Sharma\",67,\"Mohit Sharma\",27)\n",
    "son_obj.father_hii()\n",
    "son_obj.son_hii()\n"
   ]
  },
  {
   "cell_type": "code",
   "execution_count": 14,
   "metadata": {},
   "outputs": [
    {
     "name": "stdout",
     "output_type": "stream",
     "text": [
      "Father name is Mohit Sharma\n",
      "Father age is 67\n",
      "Son name is Vijay Sharma\n",
      "Son age is 27\n",
      "Grand Child name is Sanjay Sharma\n",
      "Grand Child age is 2\n"
     ]
    }
   ],
   "source": [
    "# Multilevel Inheritence\n",
    "\n",
    "class Father:\n",
    "    def __init__(self, father_name, father_age):\n",
    "        self.father_name = father_name\n",
    "        self.father_age = father_age\n",
    "\n",
    "    def father_hii(self):\n",
    "        print(\"Father name is\", self.father_name)\n",
    "        print(\"Father age is\", self.father_age) \n",
    "\n",
    "class Son(Father):\n",
    "    def __init__(self, son_name, son_age, father_name, father_age):\n",
    "        super().__init__(father_name, father_age)\n",
    "        self.son_name = son_name\n",
    "        self.son_age = son_age\n",
    "\n",
    "    def son_hii(self):\n",
    "        print(\"Son name is\", self.son_name)\n",
    "        print(\"Son age is\", self.son_age) \n",
    "\n",
    "class Grand_child(Son):\n",
    "    def __init__(self, grand_child_name, grand_child_age, father_name, father_age, son_name, son_age):\n",
    "        super().__init__(son_name, son_age, father_name, father_age)\n",
    "        self.grand_child_name = grand_child_name\n",
    "        self.grand_child_age = grand_child_age\n",
    "\n",
    "    def grand_hii(self):\n",
    "        print(\"Grand Child name is\", self.grand_child_name)\n",
    "        print(\"Grand Child age is\", self.grand_child_age) \n",
    "\n",
    "grand_obj = Grand_child(\"Sanjay Sharma\", 2, \"Mohit Sharma\", 67, \"Vijay Sharma\", 27)\n",
    "grand_obj.father_hii()\n",
    "grand_obj.son_hii()\n",
    "grand_obj.grand_hii()"
   ]
  },
  {
   "cell_type": "code",
   "execution_count": 10,
   "metadata": {},
   "outputs": [
    {
     "name": "stdout",
     "output_type": "stream",
     "text": [
      "Father name is Mohit Sharma\n",
      "Father age is 27\n",
      "Son name is Vijay Sharma\n",
      "Son age is 67\n",
      "Grand Cild name is Sanjay Sharma\n",
      "Grand Cild age is 2\n"
     ]
    }
   ],
   "source": [
    "# Multiple Inheritence\n",
    "\n",
    "class Father:\n",
    "    def __init__(self, father_name, father_age):\n",
    "        self.father_name = father_name\n",
    "        self.father_age = father_age\n",
    "\n",
    "    def father_hii(self):\n",
    "        print(\"Father name is\", self.father_name)\n",
    "        print(\"Father age is\", self.father_age) \n",
    "\n",
    "class Son:\n",
    "    def __init__(self, son_name, son_age):\n",
    "        self.son_name = son_name\n",
    "        self.son_age = son_age\n",
    "\n",
    "    def son_hii(self):\n",
    "        print(\"Son name is\", self.son_name)\n",
    "        print(\"Son age is\", self.son_age) \n",
    "\n",
    "\n",
    "class Grand_child(Father, Son):\n",
    "    def __init__(self, grand_child_name, grand_child_age, father_name, father_age, son_name, son_age):\n",
    "        Father.__init__(self, father_name, father_age)\n",
    "        Son.__init__(self, son_name, son_age)\n",
    "        self.grand_child_name = grand_child_name\n",
    "        self.grand_child_age = grand_child_age\n",
    "\n",
    "    def grand_hii(self):\n",
    "        print(\"Grand Cild name is\", self.grand_child_name)\n",
    "        print(\"Grand Cild age is\", self.grand_child_age) \n",
    "\n",
    "\n",
    "grand_obj = Grand_child(\"Sanjay Sharma\", 2, \"Mohit Sharma\", 27, \"Vijay Sharma\", 67)\n",
    "grand_obj.father_hii()\n",
    "grand_obj.son_hii()\n",
    "grand_obj.grand_hii()"
   ]
  },
  {
   "cell_type": "code",
   "execution_count": 13,
   "metadata": {},
   "outputs": [
    {
     "name": "stdout",
     "output_type": "stream",
     "text": [
      "Father name is Mohit Sharma\n",
      "Father age is 67\n",
      "Mother name is Sita Sharma\n",
      "Mother age is 64\n",
      "Son name is Vijay Sharma\n",
      "Son age is 25\n",
      "Grand Child name is Sanjay Sharma\n",
      "Grand Child age is 2\n"
     ]
    }
   ],
   "source": [
    "# Hybrid or heirarical Inheritence\n",
    "\n",
    "class Father:\n",
    "    def __init__(self, father_name, father_age):\n",
    "        self.father_name = father_name\n",
    "        self.father_age = father_age\n",
    "\n",
    "    def father_hii(self):\n",
    "        print(\"Father name is\", self.father_name)\n",
    "        print(\"Father age is\", self.father_age) \n",
    "\n",
    "class Mother:\n",
    "    def __init__(self, mother_name, mother_age):\n",
    "        self.mother_name = mother_name\n",
    "        self.mother_age = mother_age\n",
    "\n",
    "    def mother_hii(self):\n",
    "        print(\"Mother name is\", self.mother_name)\n",
    "        print(\"Mother age is\", self.mother_age) \n",
    "\n",
    "class Son(Father, Mother):  # Hybrid Inheritance\n",
    "    def __init__(self, son_name, son_age, father_name, father_age, mother_name, mother_age):\n",
    "        Father.__init__(self, father_name, father_age)\n",
    "        Mother.__init__(self, mother_name, mother_age)\n",
    "        self.son_name = son_name\n",
    "        self.son_age = son_age\n",
    "\n",
    "    def son_hii(self):\n",
    "        print(\"Son name is\", self.son_name)\n",
    "        print(\"Son age is\", self.son_age) \n",
    "\n",
    "class Grand_child(Son):\n",
    "    def __init__(self, grand_child_name, grand_child_age, father_name, father_age, mother_name, mother_age, son_name, son_age):\n",
    "        super().__init__(son_name, son_age, father_name, father_age, mother_name, mother_age)\n",
    "        self.grand_child_name = grand_child_name\n",
    "        self.grand_child_age = grand_child_age\n",
    "\n",
    "    def grand_hii(self):\n",
    "        print(\"Grand Child name is\", self.grand_child_name)\n",
    "        print(\"Grand Child age is\", self.grand_child_age) \n",
    "\n",
    "grand_obj = Grand_child(\"Sanjay Sharma\", 2, \"Mohit Sharma\", 67, \"Sita Sharma\", 64, \"Vijay Sharma\", 25)\n",
    "grand_obj.father_hii()\n",
    "grand_obj.mother_hii()\n",
    "grand_obj.son_hii()\n",
    "grand_obj.grand_hii()"
   ]
  }
 ],
 "metadata": {
  "kernelspec": {
   "display_name": "Python 3",
   "language": "python",
   "name": "python3"
  },
  "language_info": {
   "codemirror_mode": {
    "name": "ipython",
    "version": 3
   },
   "file_extension": ".py",
   "mimetype": "text/x-python",
   "name": "python",
   "nbconvert_exporter": "python",
   "pygments_lexer": "ipython3",
   "version": "3.9.13"
  }
 },
 "nbformat": 4,
 "nbformat_minor": 2
}
