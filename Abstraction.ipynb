{
 "cells": [
  {
   "cell_type": "markdown",
   "metadata": {},
   "source": [
    "<h1>Abstraction</h1>"
   ]
  },
  {
   "cell_type": "markdown",
   "metadata": {},
   "source": [
    "Abstraction in Object-Oriented Programming (OOP) is a fundamental concept that focuses on hiding the implementation details of an object and exposing only essential functionalities. It allows you to create a simplified interface for users to interact with objects without needing to understand the complex inner workings. Here are the key aspects of abstraction in OOP:"
   ]
  },
  {
   "cell_type": "code",
   "execution_count": 1,
   "metadata": {},
   "outputs": [
    {
     "name": "stdout",
     "output_type": "stream",
     "text": [
      "Mohit Sharma\n"
     ]
    }
   ],
   "source": [
    "from abc import ABC,abstractmethod\n",
    "class Manager(ABC):\n",
    "    # Types of abstaction-->\n",
    "        # abstract method\n",
    "        # concrete method\n",
    "    manager_name = \"Suresh Chandra\"\n",
    "\n",
    "    @abstractmethod\n",
    "    def display():\n",
    "        print(manager_name)\n",
    "\n",
    "\n",
    "class Employee(Manager):\n",
    "    employee_name = \"Mohit Sharma\"\n",
    "    def display(self):\n",
    "        print(self.employee_name)\n",
    "\n",
    "obj = Employee()\n",
    "obj.display()        "
   ]
  },
  {
   "cell_type": "code",
   "execution_count": null,
   "metadata": {},
   "outputs": [],
   "source": [
    "Employee.mro()      #Method Resolution Order"
   ]
  },
  {
   "cell_type": "code",
   "execution_count": 5,
   "metadata": {},
   "outputs": [
    {
     "name": "stdout",
     "output_type": "stream",
     "text": [
      "The area of the circle is: 12.56636\n"
     ]
    }
   ],
   "source": [
    "# Abstraction without classes.\n",
    "\n",
    "def calculate_area(shape, dimensions):\n",
    "    \"\"\"\n",
    "    This function calculates the area of a shape based on its type and dimensions.\n",
    "\n",
    "    Args:\n",
    "        shape: The type of shape (e.g., \"square\", \"rectangle\", \"circle\").\n",
    "        dimensions: A tuple containing the shape's dimensions (e.g., (width, height) for rectangle).\n",
    "\n",
    "    Returns:\n",
    "        The area of the shape.\n",
    "    \"\"\"\n",
    "    if shape == \"square\":\n",
    "        return dimensions[0] * dimensions[0]\n",
    "    elif shape == \"rectangle\":\n",
    "        return dimensions[0] * dimensions[1]\n",
    "    elif shape == \"triangle\":\n",
    "        return 0.5 * dimensions[0] * dimensions[1]\n",
    "    elif shape == \"circle\":\n",
    "        radius = dimensions[0]\n",
    "        return 3.14159 * radius * radius\n",
    "    else:\n",
    "        raise ValueError(\"Unsupported shape type.\")\n",
    "\n",
    "# Main program loop\n",
    "while True:\n",
    "    try:\n",
    "        # Get user input for shape\n",
    "        shape = input(\"Enter the shape type (square, rectangle, circle, triangle): \").lower()\n",
    "        if shape not in (\"square\", \"rectangle\", \"circle\", \"triangle\"):\n",
    "            raise ValueError(\"Invalid shape type.\")\n",
    "\n",
    "        # Get user input for dimensions based on shape\n",
    "        if shape == \"square\":\n",
    "            while True:\n",
    "                try:\n",
    "                    side_length = float(input(\"Enter the side length of the square: \"))\n",
    "                    dimensions = (side_length,)\n",
    "                    break\n",
    "                except ValueError:\n",
    "                    print(\"Invalid input. Please enter a number.\")\n",
    "        elif shape == \"rectangle\":\n",
    "            while True:\n",
    "                try:\n",
    "                    length = float(input(\"Enter the length of the rectangle: \"))\n",
    "                    width = float(input(\"Enter the width of the rectangle: \"))\n",
    "                    dimensions = (length, width)\n",
    "                    break\n",
    "                except ValueError:\n",
    "                    print(\"Invalid input. Please enter numbers.\")\n",
    "        elif shape == \"triangle\":\n",
    "            while True:\n",
    "                try:\n",
    "                    height = float(input(\"Enter the length of the rectangle: \"))\n",
    "                    base = float(input(\"Enter the width of the rectangle: \"))\n",
    "                    dimensions = (height, base)\n",
    "                    break\n",
    "                except ValueError:\n",
    "                    print(\"Invalid input. Please enter numbers.\")            \n",
    "        else:\n",
    "            while True:\n",
    "                try:\n",
    "                    radius = float(input(\"Enter the radius of the circle: \"))\n",
    "                    dimensions = (radius,)\n",
    "                    break\n",
    "                except ValueError:\n",
    "                    print(\"Invalid input. Please enter a number.\")\n",
    "\n",
    "        # Calculate and print the area\n",
    "        area = calculate_area(shape, dimensions)\n",
    "        print(f\"The area of the {shape} is: {area}\")\n",
    "        break  # Exit the loop after successful calculation\n",
    "\n",
    "    except KeyboardInterrupt:\n",
    "        print(\"Exiting due to keyboard interrupt.\")\n",
    "        break\n",
    "\n"
   ]
  },
  {
   "cell_type": "code",
   "execution_count": 7,
   "metadata": {},
   "outputs": [
    {
     "name": "stdout",
     "output_type": "stream",
     "text": [
      "Square area: 25\n",
      "Rectangle area: 12\n",
      "Circle area: 12.56636\n"
     ]
    }
   ],
   "source": [
    "# Abstraction using classes and abstractmethod.\n",
    "\n",
    "from abc import ABC, abstractmethod\n",
    "\n",
    "class Shape(ABC):\n",
    "  \"\"\"\n",
    "  Abstract base class representing a geometric shape.\n",
    "  \"\"\"\n",
    "  @abstractmethod\n",
    "  def calculate_area(self):\n",
    "    pass\n",
    "\n",
    "class Square(Shape):\n",
    "  \"\"\"\n",
    "  Square subclass inherits from Shape and implements calculate_area.\n",
    "  \"\"\"\n",
    "  def __init__(self, side_length):\n",
    "    self.side_length = side_length\n",
    "\n",
    "  def calculate_area(self):\n",
    "    return self.side_length * self.side_length\n",
    "\n",
    "class Rectangle(Shape):\n",
    "  \"\"\"\n",
    "  Rectangle subclass inherits from Shape and implements calculate_area.\n",
    "  \"\"\"\n",
    "  def __init__(self, length, width):\n",
    "    self.length = length\n",
    "    self.width = width\n",
    "\n",
    "  def calculate_area(self):\n",
    "    return self.length * self.width\n",
    "\n",
    "class Circle(Shape):\n",
    "  \"\"\"\n",
    "  Circle subclass inherits from Shape and implements calculate_area.\n",
    "  \"\"\"\n",
    "  def __init__(self, radius):\n",
    "    self.radius = radius\n",
    "\n",
    "  def calculate_area(self):\n",
    "    return 3.14159 * self.radius * self.radius\n",
    "\n",
    "# Example usage\n",
    "square = Square(5)\n",
    "rectangle = Rectangle(4, 3)\n",
    "circle = Circle(2)\n",
    "\n",
    "shapes = [square, rectangle, circle]\n",
    "\n",
    "for shape in shapes:\n",
    "  print(f\"{type(shape).__name__} area: {shape.calculate_area()}\")\n"
   ]
  },
  {
   "cell_type": "code",
   "execution_count": null,
   "metadata": {},
   "outputs": [],
   "source": [
    "print(__name__)"
   ]
  },
  {
   "cell_type": "code",
   "execution_count": null,
   "metadata": {},
   "outputs": [],
   "source": [
    "if __name__ == '__main__':\n",
    "    pass\n",
    "# This syntax or snippet of code means that this part will only be executed when the files name is main and is not excecutable form other file."
   ]
  }
 ],
 "metadata": {
  "kernelspec": {
   "display_name": "Python 3",
   "language": "python",
   "name": "python3"
  },
  "language_info": {
   "codemirror_mode": {
    "name": "ipython",
    "version": 3
   },
   "file_extension": ".py",
   "mimetype": "text/x-python",
   "name": "python",
   "nbconvert_exporter": "python",
   "pygments_lexer": "ipython3",
   "version": "3.9.13"
  }
 },
 "nbformat": 4,
 "nbformat_minor": 2
}
