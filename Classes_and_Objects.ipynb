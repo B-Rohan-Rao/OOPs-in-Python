{
 "cells": [
  {
   "cell_type": "markdown",
   "metadata": {},
   "source": [
    "<h1>Object Oriented Programming</h1>"
   ]
  },
  {
   "cell_type": "code",
   "execution_count": 12,
   "metadata": {},
   "outputs": [
    {
     "name": "stdout",
     "output_type": "stream",
     "text": [
      "Constructor is executed\n",
      "Rohit Kumar\n",
      "student name: Rohit Kumar\n",
      "student roll no: 101\n",
      "student branch: cse\n",
      "student age: 20\n"
     ]
    }
   ],
   "source": [
    "# Basics\n",
    "\n",
    "class student:\n",
    "    student_name = 'Rohit Kumar'\n",
    "    student_branch = 'cse'\n",
    "    student_roll_no = 101\n",
    "    student_age = 20\n",
    "    \n",
    "    def __init__(self):          # Constructor-->Variable initialization.\n",
    "        # Instance variable\n",
    "        self.college = 'JECRC'\n",
    "        self.college_city = 'Jaipur'\n",
    "        print(\"Constructor is executed\")\n",
    "\n",
    "\n",
    "    def display(self):\n",
    "        print(\"student name:\",self.student_name)\n",
    "        print(\"student roll no:\",self.student_roll_no)\n",
    "        print(\"student branch:\",self.student_branch)\n",
    "        print(\"student age:\",self.student_age)\n",
    "\n",
    "\n",
    "# object or instant    \n",
    "obj = student()\n",
    "print(obj.student_name) \n",
    "obj.display()"
   ]
  },
  {
   "cell_type": "code",
   "execution_count": 13,
   "metadata": {},
   "outputs": [
    {
     "name": "stdout",
     "output_type": "stream",
     "text": [
      "College Name : jecrc\n",
      "College CIty: Jaipur\n",
      "College Name : Poornima\n",
      "College CIty:  Jodhpur\n",
      "Mohit kumar\n",
      "Rohit Kumar\n"
     ]
    }
   ],
   "source": [
    "# Constructor-->Variable initialization.\n",
    "# Types of methods\n",
    "        # Instance method\n",
    "        # Class method\n",
    "        # Static method \n",
    "\n",
    "\n",
    "#Instance Method\n",
    "\n",
    "class student:\n",
    "    student_name = 'Rohit Kumar'\n",
    "    student_branch = 'cse'\n",
    "    student_roll_no = 101\n",
    "    student_age = 20\n",
    "    \n",
    "    def __init__(self, college_name, college_city):          # Constructor-->Variable initialization.\n",
    "        # Instance variable\n",
    "        self.college = college_name\n",
    "        self.college_city = college_city\n",
    "        # print(\"Constructor is executed\")\n",
    "\n",
    "\n",
    "    def display(self):\n",
    "        print(\"student name:\",self.student_name)\n",
    "        print(\"student roll no:\",self.student_roll_no)\n",
    "        print(\"student branch:\",self.student_branch)\n",
    "        print(\"student age:\",self.student_age)\n",
    "\n",
    "    def college_details(self):\n",
    "        print(\"College Name :\", self.college)\n",
    "        print(\"College CIty:\", self.college_city)    \n",
    "\n",
    "# object or instant    \n",
    "obj1 = student(college_name = 'jecrc', college_city='Jaipur')\n",
    "obj2 = student(college_name = 'Poornima', college_city= ' Jodhpur')\n",
    "obj1.college_details()\n",
    "obj2.college_details()\n",
    "obj1.student_name = 'Mohit kumar'\n",
    "print(obj1.student_name)\n",
    "print(obj2.student_name)"
   ]
  },
  {
   "cell_type": "code",
   "execution_count": 17,
   "metadata": {},
   "outputs": [
    {
     "name": "stdout",
     "output_type": "stream",
     "text": [
      "Constructor Executed\n",
      "21\n",
      "Rohit Kumar\n",
      "21\n",
      "Rohit Kumar\n"
     ]
    }
   ],
   "source": [
    "# Class method\n",
    "\n",
    "class Student:\n",
    "    student_name = 'Rohit Kumar'\n",
    "    student_age = 21\n",
    "    \n",
    "    def __init__(self, name, branch, roll_no,list_of_subjects):\n",
    "        self.student_name = name\n",
    "        self.student_branch = branch\n",
    "        self.roll_no = roll_no\n",
    "        self.studnet_subject = list_of_subjects\n",
    "        print('Constructor Executed')\n",
    "\n",
    "    @classmethod                      # Decorator\n",
    "    def display(cls):\n",
    "        print(cls.student_age)\n",
    "        print(cls.student_name)\n",
    "\n",
    "obj = Student('Mohit Kumar', 'CSE', 101, ['Physics', 'Maths', 'Computer'])      \n",
    "obj.display()                                           # Called using instance\n",
    "Student.display()                                       # Called using class \n",
    "\n",
    "# self ==> object or class\n",
    "# cls ==> class method"
   ]
  },
  {
   "cell_type": "code",
   "execution_count": 27,
   "metadata": {},
   "outputs": [
    {
     "name": "stdout",
     "output_type": "stream",
     "text": [
      "53.875\n"
     ]
    }
   ],
   "source": [
    "class Abc:\n",
    "    def __init__(self):\n",
    "        self.lst = [12,23,34,45,65,67,87,98]\n",
    "\n",
    "    def average(self):\n",
    "        result = 0\n",
    "        sum = 0\n",
    "        count = 0\n",
    "        for x in self.lst:\n",
    "            sum += x\n",
    "            count +=1\n",
    "        result = sum/count\n",
    "        print(result)\n",
    "\n",
    "obj = Abc()\n",
    "obj.average()       \n",
    "            \n",
    "           "
   ]
  },
  {
   "cell_type": "code",
   "execution_count": 30,
   "metadata": {},
   "outputs": [
    {
     "name": "stdout",
     "output_type": "stream",
     "text": [
      "5\n"
     ]
    }
   ],
   "source": [
    "class Abe:\n",
    "    def __init__(self):\n",
    "        self.lst = [12,23,34,45,65,67,87,98]\n",
    "\n",
    "    def TargetFinder(self, Number):\n",
    "        count = 1\n",
    "        self.Number  = Number\n",
    "\n",
    "        for i in self.lst:\n",
    "            if i != self.Number:\n",
    "                count += 1\n",
    "            else:\n",
    "                return count\n",
    "\n",
    "obj = Abe()    \n",
    "print(obj.TargetFinder(65))        "
   ]
  },
  {
   "cell_type": "code",
   "execution_count": 1,
   "metadata": {},
   "outputs": [
    {
     "name": "stdout",
     "output_type": "stream",
     "text": [
      "8\n",
      "12\n"
     ]
    }
   ],
   "source": [
    "# Static Function\n",
    "\n",
    "class MathUtils:\n",
    "\n",
    "  @staticmethod\n",
    "  def add(x, y):\n",
    "    \"\"\"\n",
    "    Adds two numbers.\n",
    "\n",
    "    Args:\n",
    "      x: The first number.\n",
    "      y: The second number.\n",
    "\n",
    "    Returns:\n",
    "      The sum of x and y.\n",
    "    \"\"\"\n",
    "    return x + y\n",
    "\n",
    "# Call the static method directly on the class\n",
    "result = MathUtils.add(5, 3)\n",
    "print(result)  # Output: 8\n",
    "\n",
    "alternative_result = MathUtils.add(10, 2)\n",
    "print(alternative_result)  # Output: 12"
   ]
  },
  {
   "cell_type": "code",
   "execution_count": 31,
   "metadata": {},
   "outputs": [
    {
     "name": "stdout",
     "output_type": "stream",
     "text": [
      "21\n",
      "28\n",
      "True\n"
     ]
    }
   ],
   "source": [
    "# Python program to demonstrate\n",
    "# use of class method and static method.\n",
    "from datetime import date\n",
    "\n",
    "\n",
    "class Person:\n",
    "\tdef __init__(self, name, age):\n",
    "\t\tself.name = name\n",
    "\t\tself.age = age\n",
    "\n",
    "\t# a class method to create a Person object by birth year.\n",
    "\t@classmethod\n",
    "\tdef fromBirthYear(cls, name, year):\n",
    "\t\treturn cls(name, date.today().year - year)\n",
    "\n",
    "\t# a static method to check if a Person is adult or not.\n",
    "\t@staticmethod\n",
    "\tdef isAdult(age):\n",
    "\t\treturn age > 18\n",
    "\n",
    "\n",
    "person1 = Person('mayank', 21)\n",
    "person2 = Person.fromBirthYear('mayank', 1996)\n",
    "\n",
    "print(person1.age)\n",
    "print(person2.age)\n",
    "\n",
    "# print the result\n",
    "print(Person.isAdult(22))\n"
   ]
  }
 ],
 "metadata": {
  "kernelspec": {
   "display_name": "Python 3",
   "language": "python",
   "name": "python3"
  },
  "language_info": {
   "codemirror_mode": {
    "name": "ipython",
    "version": 3
   },
   "file_extension": ".py",
   "mimetype": "text/x-python",
   "name": "python",
   "nbconvert_exporter": "python",
   "pygments_lexer": "ipython3",
   "version": "3.9.13"
  }
 },
 "nbformat": 4,
 "nbformat_minor": 2
}
