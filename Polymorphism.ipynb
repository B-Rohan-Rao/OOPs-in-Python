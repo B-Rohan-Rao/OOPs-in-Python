{
 "cells": [
  {
   "cell_type": "markdown",
   "metadata": {},
   "source": [
    "<h1>Pholymorphism</h1>"
   ]
  },
  {
   "cell_type": "markdown",
   "metadata": {},
   "source": [
    "Polymorphism in Object-Oriented Programming (OOP) refers to the ability of objects of different classes to respond to the same method call in different ways. It's a powerful concept that allows for flexible and dynamic behavior in your code. "
   ]
  },
  {
   "cell_type": "code",
   "execution_count": 1,
   "metadata": {},
   "outputs": [
    {
     "name": "stdout",
     "output_type": "stream",
     "text": [
      "Woof!\n",
      "Meow!\n",
      "Generic animal sound\n"
     ]
    }
   ],
   "source": [
    "class Animal:\n",
    "    def make_sound(self):\n",
    "        print(\"Generic animal sound\")\n",
    "\n",
    "class Dog(Animal):\n",
    "    def make_sound(self):\n",
    "        print(\"Woof!\")\n",
    "\n",
    "class Cat(Animal):\n",
    "    def make_sound(self):\n",
    "        print(\"Meow!\")\n",
    "\n",
    "# Create animal objects\n",
    "animals = [Dog(), Cat(), Animal()]  # Polymorphic list\n",
    "\n",
    "# Call make_sound() on each animal (dynamic dispatch)\n",
    "for animal in animals:\n",
    "    animal.make_sound()\n"
   ]
  },
  {
   "cell_type": "code",
   "execution_count": 2,
   "metadata": {},
   "outputs": [
    {
     "name": "stdout",
     "output_type": "stream",
     "text": [
      "Square area: 4.0\n"
     ]
    }
   ],
   "source": [
    "class Shape:\n",
    "    def __init__(self):\n",
    "        self.area = None  # Placeholder for area\n",
    "\n",
    "    def calculate_area(self):\n",
    "        raise NotImplementedError(\"Subclasses must implement calculate_area()\")\n",
    "\n",
    "class Square(Shape):\n",
    "    def __init__(self, side_length):\n",
    "        super().__init__()\n",
    "        self.side_length = side_length\n",
    "        self.area = self.calculate_area()\n",
    "\n",
    "    def calculate_area(self):\n",
    "        return self.side_length * self.side_length\n",
    "\n",
    "class Rectangle(Shape):\n",
    "    def __init__(self, length, width):\n",
    "        super().__init__()\n",
    "        self.length = length\n",
    "        self.width = width\n",
    "        self.area = self.calculate_area()\n",
    "\n",
    "    def calculate_area(self):\n",
    "        return self.length * self.width\n",
    "\n",
    "class Circle(Shape):\n",
    "    def __init__(self, radius):\n",
    "        super().__init__()\n",
    "        self.radius = radius\n",
    "        self.area = self.calculate_area()\n",
    "\n",
    "    def calculate_area(self):\n",
    "        return 3.14159 * self.radius * self.radius\n",
    "\n",
    "def get_user_input():\n",
    "    \"\"\"Gets user input for shape type and dimensions.\"\"\"\n",
    "    while True:\n",
    "        shape_type = input(\"Enter shape type (square, rectangle, circle): \").lower()\n",
    "        if shape_type in (\"square\", \"rectangle\", \"circle\"):\n",
    "            break\n",
    "        print(\"Invalid shape type. Please try again.\")\n",
    "\n",
    "    if shape_type == \"square\":\n",
    "        while True:\n",
    "            try:\n",
    "                side_length = float(input(\"Enter side length: \"))\n",
    "                if side_length > 0:\n",
    "                    return Square(side_length)\n",
    "                else:\n",
    "                    print(\"Side length must be positive.\")\n",
    "            except ValueError:\n",
    "                print(\"Invalid input. Please enter a number.\")\n",
    "    elif shape_type == \"rectangle\":\n",
    "        while True:\n",
    "            try:\n",
    "                length = float(input(\"Enter length: \"))\n",
    "                width = float(input(\"Enter width: \"))\n",
    "                if length > 0 and width > 0:\n",
    "                    return Rectangle(length, width)\n",
    "                else:\n",
    "                    print(\"Length and width must be positive.\")\n",
    "            except ValueError:\n",
    "                print(\"Invalid input. Please enter numbers.\")\n",
    "    else:  # circle\n",
    "        while True:\n",
    "            try:\n",
    "                radius = float(input(\"Enter radius: \"))\n",
    "                if radius > 0:\n",
    "                    return Circle(radius)\n",
    "                else:\n",
    "                    print(\"Radius must be positive.\")\n",
    "            except ValueError:\n",
    "                print(\"Invalid input. Please enter a number.\")\n",
    "\n",
    "# Get user input and create the shape\n",
    "shape = get_user_input()\n",
    "\n",
    "# Print the area\n",
    "print(f\"{shape.__class__.__name__} area:\", shape.area)\n"
   ]
  }
 ],
 "metadata": {
  "kernelspec": {
   "display_name": "Python 3",
   "language": "python",
   "name": "python3"
  },
  "language_info": {
   "codemirror_mode": {
    "name": "ipython",
    "version": 3
   },
   "file_extension": ".py",
   "mimetype": "text/x-python",
   "name": "python",
   "nbconvert_exporter": "python",
   "pygments_lexer": "ipython3",
   "version": "3.9.13"
  }
 },
 "nbformat": 4,
 "nbformat_minor": 2
}
